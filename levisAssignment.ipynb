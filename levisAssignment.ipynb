{
  "nbformat": 4,
  "nbformat_minor": 0,
  "metadata": {
    "colab": {
      "provenance": [],
      "authorship_tag": "ABX9TyOO4pcVXFUrWHkh0IltwmaK",
      "include_colab_link": true
    },
    "kernelspec": {
      "name": "python3",
      "display_name": "Python 3"
    },
    "language_info": {
      "name": "python"
    }
  },
  "cells": [
    {
      "cell_type": "markdown",
      "metadata": {
        "id": "view-in-github",
        "colab_type": "text"
      },
      "source": [
        "<a href=\"https://colab.research.google.com/github/smruthyunjaya/levisTakeHomeAssignment/blob/dev/levisAssignment.ipynb\" target=\"_parent\"><img src=\"https://colab.research.google.com/assets/colab-badge.svg\" alt=\"Open In Colab\"/></a>"
      ]
    },
    {
      "cell_type": "markdown",
      "source": [
        "# Levis Take Home Assignment"
      ],
      "metadata": {
        "id": "oqMa-8ovVR0m"
      }
    },
    {
      "cell_type": "markdown",
      "source": [
        " # Git setup"
      ],
      "metadata": {
        "id": "pim4dBnlVbap"
      }
    },
    {
      "cell_type": "code",
      "execution_count": 1,
      "metadata": {
        "colab": {
          "base_uri": "https://localhost:8080/"
        },
        "id": "Ejl-2gGFUxrA",
        "outputId": "5b7644df-0417-4699-ff54-4acdda13fdc3"
      },
      "outputs": [
        {
          "output_type": "stream",
          "name": "stdout",
          "text": [
            "Cloning into 'levisTakeHomeAssignment'...\n",
            "remote: Enumerating objects: 3, done.\u001b[K\n",
            "remote: Counting objects: 100% (3/3), done.\u001b[K\n",
            "remote: Total 3 (delta 0), reused 0 (delta 0), pack-reused 0\u001b[K\n",
            "Unpacking objects: 100% (3/3), done.\n"
          ]
        }
      ],
      "source": [
        "!git clone -b dev https://github.com/smruthyunjaya/levisTakeHomeAssignment.git\n",
        "!cd levisTakeHomeAssignment/\n",
        "\n"
      ]
    },
    {
      "cell_type": "code",
      "source": [
        "import sys\n",
        "import os\n",
        "sys.path.append(os.path.abspath('/content/levisTakeHomeAssignment/'))"
      ],
      "metadata": {
        "id": "wXh6CEmUcpel"
      },
      "execution_count": 9,
      "outputs": []
    },
    {
      "cell_type": "code",
      "source": [
        "from data_utils.DataLoader import DataLoader"
      ],
      "metadata": {
        "id": "ErPAxXSwWm-o"
      },
      "execution_count": 18,
      "outputs": []
    },
    {
      "cell_type": "code",
      "source": [
        "dl = DataLoader('https://docs.google.com/spreadsheets/d/e/2PACX-1vSag0RkuAVTVHmtxQHPAPc-6EGGKzWF9bkVq0xiH2AnyUcy_7VQwZGm-TFWZSVvxTlOFL3N1rYXTx5S/pub?gid=646522252&single=true&output=tsv')\n",
        "dl.print_summary()\n",
        "df = dl.df"
      ],
      "metadata": {
        "colab": {
          "base_uri": "https://localhost:8080/"
        },
        "id": "eb7eaAMcc2GZ",
        "outputId": "c53cd1b8-9a54-4cb6-c8ef-0bcd37c8954a"
      },
      "execution_count": 25,
      "outputs": [
        {
          "output_type": "stream",
          "name": "stdout",
          "text": [
            "(10127, 21)\n",
            "          CLIENTNUM  Customer_Age  Dependent_count  Months_on_book  \\\n",
            "count  1.012700e+04  10127.000000     10127.000000    10127.000000   \n",
            "mean   7.391776e+08     46.325960         2.346203       35.928409   \n",
            "std    3.690378e+07      8.016814         1.298908        7.986416   \n",
            "min    7.080821e+08     26.000000         0.000000       13.000000   \n",
            "25%    7.130368e+08     41.000000         1.000000       31.000000   \n",
            "50%    7.179264e+08     46.000000         2.000000       36.000000   \n",
            "75%    7.731435e+08     52.000000         3.000000       40.000000   \n",
            "max    8.283431e+08     73.000000         5.000000       56.000000   \n",
            "\n",
            "       Total_Relationship_Count  Months_Inactive_12_mon  \\\n",
            "count              10127.000000            10127.000000   \n",
            "mean                   3.812580                2.341167   \n",
            "std                    1.554408                1.010622   \n",
            "min                    1.000000                0.000000   \n",
            "25%                    3.000000                2.000000   \n",
            "50%                    4.000000                2.000000   \n",
            "75%                    5.000000                3.000000   \n",
            "max                    6.000000                6.000000   \n",
            "\n",
            "       Contacts_Count_12_mon  Credit_Limit  Total_Revolving_Bal  \\\n",
            "count           10127.000000  10127.000000         10127.000000   \n",
            "mean                2.455317   8631.953698          1162.814061   \n",
            "std                 1.106225   9088.776650           814.987335   \n",
            "min                 0.000000   1438.300000             0.000000   \n",
            "25%                 2.000000   2555.000000           359.000000   \n",
            "50%                 2.000000   4549.000000          1276.000000   \n",
            "75%                 3.000000  11067.500000          1784.000000   \n",
            "max                 6.000000  34516.000000          2517.000000   \n",
            "\n",
            "       Avg_Open_To_Buy  Total_Amt_Chng_Q4_Q1  Total_Trans_Amt  Total_Trans_Ct  \\\n",
            "count     10127.000000          10127.000000     10127.000000    10127.000000   \n",
            "mean       7469.139637              0.759941      4404.086304       64.858695   \n",
            "std        9090.685324              0.219207      3397.129254       23.472570   \n",
            "min           3.000000              0.000000       510.000000       10.000000   \n",
            "25%        1324.500000              0.631000      2155.500000       45.000000   \n",
            "50%        3474.000000              0.736000      3899.000000       67.000000   \n",
            "75%        9859.000000              0.859000      4741.000000       81.000000   \n",
            "max       34516.000000              3.397000     18484.000000      139.000000   \n",
            "\n",
            "       Total_Ct_Chng_Q4_Q1  Avg_Utilization_Ratio  \n",
            "count         10127.000000           10127.000000  \n",
            "mean              0.712222               0.274894  \n",
            "std               0.238086               0.275691  \n",
            "min               0.000000               0.000000  \n",
            "25%               0.582000               0.023000  \n",
            "50%               0.702000               0.176000  \n",
            "75%               0.818000               0.503000  \n",
            "max               3.714000               0.999000  \n",
            "<class 'pandas.core.frame.DataFrame'>\n",
            "RangeIndex: 10127 entries, 0 to 10126\n",
            "Data columns (total 21 columns):\n",
            " #   Column                    Non-Null Count  Dtype  \n",
            "---  ------                    --------------  -----  \n",
            " 0   CLIENTNUM                 10127 non-null  int64  \n",
            " 1   Attrition_Flag            10127 non-null  object \n",
            " 2   Customer_Age              10127 non-null  int64  \n",
            " 3   Gender                    10127 non-null  object \n",
            " 4   Dependent_count           10127 non-null  int64  \n",
            " 5   Education_Level           10127 non-null  object \n",
            " 6   Marital_Status            10127 non-null  object \n",
            " 7   Income_Category           10127 non-null  object \n",
            " 8   Card_Category             10127 non-null  object \n",
            " 9   Months_on_book            10127 non-null  int64  \n",
            " 10  Total_Relationship_Count  10127 non-null  int64  \n",
            " 11  Months_Inactive_12_mon    10127 non-null  int64  \n",
            " 12  Contacts_Count_12_mon     10127 non-null  int64  \n",
            " 13  Credit_Limit              10127 non-null  float64\n",
            " 14  Total_Revolving_Bal       10127 non-null  int64  \n",
            " 15  Avg_Open_To_Buy           10127 non-null  float64\n",
            " 16  Total_Amt_Chng_Q4_Q1      10127 non-null  float64\n",
            " 17  Total_Trans_Amt           10127 non-null  int64  \n",
            " 18  Total_Trans_Ct            10127 non-null  int64  \n",
            " 19  Total_Ct_Chng_Q4_Q1       10127 non-null  float64\n",
            " 20  Avg_Utilization_Ratio     10127 non-null  float64\n",
            "dtypes: float64(5), int64(10), object(6)\n",
            "memory usage: 1.6+ MB\n",
            "None\n"
          ]
        }
      ]
    },
    {
      "cell_type": "code",
      "source": [
        "# Droping CLIENTNUM columns because Client number is unique identifier of account holder. This feature doesn't really effect the attrition  prediction.\n",
        "df.drop(['CLIENTNUM'], inplace=True, axis=1)"
      ],
      "metadata": {
        "id": "VtIB4YpNkI9E"
      },
      "execution_count": 26,
      "outputs": []
    },
    {
      "cell_type": "code",
      "source": [
        "df.shape"
      ],
      "metadata": {
        "colab": {
          "base_uri": "https://localhost:8080/"
        },
        "id": "nxVUZmVPlNLK",
        "outputId": "acce02ea-e799-4a48-dc64-fe1b89b28394"
      },
      "execution_count": 27,
      "outputs": [
        {
          "output_type": "execute_result",
          "data": {
            "text/plain": [
              "(10127, 20)"
            ]
          },
          "metadata": {},
          "execution_count": 27
        }
      ]
    }
  ]
}